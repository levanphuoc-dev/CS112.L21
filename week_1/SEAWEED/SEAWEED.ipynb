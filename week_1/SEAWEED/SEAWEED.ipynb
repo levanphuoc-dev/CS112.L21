{
  "nbformat": 4,
  "nbformat_minor": 0,
  "metadata": {
    "colab": {
      "name": "Untitled2.ipynb",
      "provenance": [],
      "collapsed_sections": [],
      "authorship_tag": "ABX9TyPsf/OkCcUYFZJEkUWtRRw+",
      "include_colab_link": true
    },
    "kernelspec": {
      "name": "python3",
      "display_name": "Python 3"
    },
    "language_info": {
      "name": "python"
    }
  },
  "cells": [
    {
      "cell_type": "markdown",
      "metadata": {
        "id": "view-in-github",
        "colab_type": "text"
      },
      "source": [
        "<a href=\"https://colab.research.google.com/github/levanphuoc-dev/CS112.L21/blob/main/week_1/SEAWEED/SEAWEED.ipynb\" target=\"_parent\"><img src=\"https://colab.research.google.com/assets/colab-badge.svg\" alt=\"Open In Colab\"/></a>"
      ]
    },
    {
      "cell_type": "markdown",
      "metadata": {
        "id": "ASruOZi548_-"
      },
      "source": [
        "**SEAWEED - TẢO BIỂN**"
      ]
    },
    {
      "cell_type": "markdown",
      "metadata": {
        "id": "XK01wpAf5A2V"
      },
      "source": [
        "**1. Abstraction( Trừu tượng hóa):**"
      ]
    },
    {
      "cell_type": "markdown",
      "metadata": {
        "id": "pvCZ1k8b5DHe"
      },
      "source": [
        "\n",
        "\n",
        "*   Tính kết quả n * Fibonacci(2k + 1)\n",
        "\n"
      ]
    },
    {
      "cell_type": "markdown",
      "metadata": {
        "id": "6aBFtint5KPS"
      },
      "source": [
        "**2. Pattern recognition( Nhận dạng mẫu):**\n"
      ]
    },
    {
      "cell_type": "markdown",
      "metadata": {
        "id": "lA5SVJoA5Q-Q"
      },
      "source": [
        "\n",
        "\n",
        "*   Kỹ thuật áp dụng: Duyệt mảng\n",
        "*   Đặc điểm nhận dạng: Với số cá thể bàn đâu n = 1, theo yêu cầu đề bài ta có:\n",
        "*   Ngày 0: 1 cá thể sinh ra\n",
        "*   Ngày 1: 3 cá thể sinh ra\n",
        "*   Ngày 2: 5 cá thể sinh ra\n",
        "*   Ngày 3: 13 cá thể sinh ra\n",
        "*   Ngày 4: 34 cá thể sinh ra\n",
        "*   Ngày 5: 89 cá thể sinh ra Từ suy luận trên ta rút ra được công thức của n cá thể sau k ngày là n * Fibonacci(2k + 1)\n",
        "\n",
        "\n",
        "\n"
      ]
    },
    {
      "cell_type": "markdown",
      "metadata": {
        "id": "Kkl6MzWI5vIO"
      },
      "source": [
        "**3. Algorithm designed(Thiết kế thuật toán):**"
      ]
    },
    {
      "cell_type": "markdown",
      "metadata": {
        "id": "MquhuChk5wz6"
      },
      "source": [
        "+ Gán fibo = [0,1], sum = 1\n",
        "+ Duyệt mảng chạy từ 0 đến 2k:\n",
        "  - Thêm fibo[1]+fibo[0] vào list fibo vừa khởi tạo trên\n",
        "  - Xóa số 0 ra khỏi list fibo\n",
        "  - Nếu i % 2 == 0 thì\n",
        "    - Cộng fibo[1] vào sum\n",
        "+ Trả về sum * n%(10**9+7)"
      ]
    },
    {
      "cell_type": "markdown",
      "metadata": {
        "id": "YE4z43AL5zn9"
      },
      "source": [
        "**4. Complexity(Độ phức tạp):**"
      ]
    },
    {
      "cell_type": "markdown",
      "metadata": {
        "id": "uD49a14059M5"
      },
      "source": [
        "\n",
        "*   Đối với bài toán này ta sử dụng một vòng for nên độ phức tạp là O(n)\n",
        "\n",
        "\n",
        "\n"
      ]
    },
    {
      "cell_type": "markdown",
      "metadata": {
        "id": "iUm9w_BH6D3E"
      },
      "source": [
        "**5. Source code:**"
      ]
    },
    {
      "cell_type": "code",
      "metadata": {
        "colab": {
          "base_uri": "https://localhost:8080/"
        },
        "id": "vatNdJwz6HuK",
        "outputId": "d6ae7254-8054-4b96-e0c2-8d99dc5f3448"
      },
      "source": [
        "n,k = map(int,input().split())\n",
        "def solve(n,k):\n",
        "    fibo = [0,1]\n",
        "    sum = 1\n",
        "    for i in range(0,2*k):\n",
        "        fibo.append(fibo[1]+fibo[0])\n",
        "        fibo.pop(0)\n",
        "        if i % 2 == 0:\n",
        "            sum+=fibo[1]\n",
        "    return sum*n%(10**9+7)\n",
        "print(solve(n,k))"
      ],
      "execution_count": 1,
      "outputs": [
        {
          "output_type": "stream",
          "text": [
            "3 2\n",
            "15\n"
          ],
          "name": "stdout"
        }
      ]
    }
  ]
}