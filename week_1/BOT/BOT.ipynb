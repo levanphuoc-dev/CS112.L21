{
  "nbformat": 4,
  "nbformat_minor": 0,
  "metadata": {
    "colab": {
      "name": "Untitled1.ipynb",
      "provenance": [],
      "authorship_tag": "ABX9TyPGwsGXg2LzwvV5KDSpK2J0",
      "include_colab_link": true
    },
    "kernelspec": {
      "name": "python3",
      "display_name": "Python 3"
    },
    "language_info": {
      "name": "python"
    }
  },
  "cells": [
    {
      "cell_type": "markdown",
      "metadata": {
        "id": "view-in-github",
        "colab_type": "text"
      },
      "source": [
        "<a href=\"https://colab.research.google.com/github/levanphuoc-dev/CS112.L21/blob/main/week_1/BOT/BOT.ipynb\" target=\"_parent\"><img src=\"https://colab.research.google.com/assets/colab-badge.svg\" alt=\"Open In Colab\"/></a>"
      ]
    },
    {
      "cell_type": "markdown",
      "metadata": {
        "id": "kSrPQ-8d2K8E"
      },
      "source": [
        "**BOT - TRẠM THU PHÍ**"
      ]
    },
    {
      "cell_type": "markdown",
      "metadata": {
        "id": "fWtcLL0B2VSK"
      },
      "source": [
        "**1. Abstraction( Trừu tượng hóa):**"
      ]
    },
    {
      "cell_type": "markdown",
      "metadata": {
        "id": "BKVswSWj2a2v"
      },
      "source": [
        "\n",
        "\n",
        "*   Tìm p, q và mảng con lớn nhất nằm trong khoảng p đến q sao cho lãi nhiều nhất hoặc lỗ ít nhất. Nếu có nhiều cách chọn thì chọn p nhỏ nhất.\n",
        "\n"
      ]
    },
    {
      "cell_type": "markdown",
      "metadata": {
        "id": "-q-ssT-u2gAQ"
      },
      "source": [
        "**2. Pattern recognition( Nhận dạng mẫu):**"
      ]
    },
    {
      "cell_type": "markdown",
      "metadata": {
        "id": "cWmX5nUV2jpN"
      },
      "source": [
        "\n",
        "\n",
        "*   Kĩ thuật được áp dụng: Duyệt mảng, gắn biến tạm.\n",
        "*   Đặc điểm nhận dạng: Chọn khoảng từ p đến q sao cho lợi nhuận cao nhất hoặc lỗ ít nhất.\n",
        "\n"
      ]
    },
    {
      "cell_type": "markdown",
      "metadata": {
        "id": "ZdSGgN6y2sdY"
      },
      "source": [
        "**3. Algorithm designed(Thiết kế thuật toán):**"
      ]
    },
    {
      "cell_type": "markdown",
      "metadata": {
        "id": "rX7Yoa8g2vHH"
      },
      "source": [
        "\n",
        "\n",
        "1.   Thiết lập lại chỉ số của mảng sao cho chạy từ 1 -> n\n",
        "2.   Gán chỉ số đại diện cho q, p lần lượt là index_left, index_right = 0, 1\n",
        "3.   Duyệt mảng:\n",
        "- Nếu a[left_min] > a[i] thì:\n",
        "- left_min = i\n",
        "-Nếu a[index_right] - a[index_left] < a[i] - a[left_min] thì:\n",
        "-index_left = left_min\n",
        "-index_right = i\n",
        "4.   In kết quả.\n",
        "\n",
        "\n",
        "\n"
      ]
    },
    {
      "cell_type": "markdown",
      "metadata": {
        "id": "yUcCaeYE3ch-"
      },
      "source": [
        "**4. Complexity(Độ phức tạp):**"
      ]
    },
    {
      "cell_type": "markdown",
      "metadata": {
        "id": "814xtOwp3exf"
      },
      "source": [
        "\n",
        "\n",
        "*   Ta chỉ chạy 2 vòng lặp liên tiếp cho chương trình nên độ phức tạp là O(n)\n",
        "\n"
      ]
    },
    {
      "cell_type": "markdown",
      "metadata": {
        "id": "IxEyqj2r3jRH"
      },
      "source": [
        "**5. Source code**"
      ]
    },
    {
      "cell_type": "code",
      "metadata": {
        "colab": {
          "base_uri": "https://localhost:8080/"
        },
        "id": "OaQcEdbM3nYQ",
        "outputId": "78b779c4-09aa-47b0-a4b5-a7c1f47756b1"
      },
      "source": [
        "n = int(input())\n",
        "a = list(map(int, input().strip().split()))[:n]\n",
        "a = [0] + a\n",
        "for i in range(1, n+1):\n",
        "    a[i] = a[i-1] + a[i]\n",
        "\n",
        "index_left, index_right = 0, 1\n",
        "left_min, right_max = 0, 1\n",
        "for i in range(1, n+1):\n",
        "    if a[left_min] > a[i]:\n",
        "        left_min = i\n",
        "    if a[index_right] - a[index_left] < a[i] - a[left_min]:\n",
        "        index_left = left_min\n",
        "        index_right = i\n",
        "print(index_left+1, index_right, a[index_right]-a[index_left])"
      ],
      "execution_count": 2,
      "outputs": [
        {
          "output_type": "stream",
          "text": [
            "16\n",
            "2 -4 5 -8 4 -1 -1 1 1 1 -2 2 4 -6 9 -4\n",
            "5 15 12\n"
          ],
          "name": "stdout"
        }
      ]
    }
  ]
}