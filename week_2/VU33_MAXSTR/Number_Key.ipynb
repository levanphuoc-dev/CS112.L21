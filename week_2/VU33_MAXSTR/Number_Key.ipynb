{
  "nbformat": 4,
  "nbformat_minor": 0,
  "metadata": {
    "colab": {
      "name": "Untitled3.ipynb",
      "provenance": [],
      "collapsed_sections": [],
      "authorship_tag": "ABX9TyMynkQlGMKIrR8PjMwUXmcD",
      "include_colab_link": true
    },
    "kernelspec": {
      "name": "python3",
      "display_name": "Python 3"
    },
    "language_info": {
      "name": "python"
    }
  },
  "cells": [
    {
      "cell_type": "markdown",
      "metadata": {
        "id": "view-in-github",
        "colab_type": "text"
      },
      "source": [
        "<a href=\"https://colab.research.google.com/github/levanphuoc-dev/CS112.L21/blob/main/week_2/VU33_MAXSTR/Number_Key.ipynb\" target=\"_parent\"><img src=\"https://colab.research.google.com/assets/colab-badge.svg\" alt=\"Open In Colab\"/></a>"
      ]
    },
    {
      "cell_type": "markdown",
      "metadata": {
        "id": "MFgN-GqP6mWr"
      },
      "source": [
        "**KHÓA SỐ**"
      ]
    },
    {
      "cell_type": "markdown",
      "metadata": {
        "id": "lYhoXHmJ6qCG"
      },
      "source": [
        "**1. Abstraction (Trừu tượng hóa):**"
      ]
    },
    {
      "cell_type": "markdown",
      "metadata": {
        "id": "I0TZKcvM6smG"
      },
      "source": [
        "- Tìm chuỗi số lớn nhất chia hết cho 3 bằng cách đổi vị trí hoặc xóa ký tự trong chuỗi số đã cho trước."
      ]
    },
    {
      "cell_type": "markdown",
      "metadata": {
        "id": "pAA0ImN96x6W"
      },
      "source": [
        "**2. Pattern recognition (Nhận dạng mẫu):**"
      ]
    },
    {
      "cell_type": "markdown",
      "metadata": {
        "id": "WVSJjloU60hY"
      },
      "source": [
        "- Kỹ thuật áp dụng: Duyệt\n",
        "- Đặc điểm nhận dạng: Tính chất của số chia hết cho 3"
      ]
    },
    {
      "cell_type": "markdown",
      "metadata": {
        "id": "PxqaL9pr63e7"
      },
      "source": [
        "**3. Algorithm designed (Thiết kế thuật toán):**"
      ]
    },
    {
      "cell_type": "markdown",
      "metadata": {
        "id": "vgcKcJ776_Z6"
      },
      "source": [
        "1. Chuyển input từ kiểu dữ liệu string sang mảng số nguyên\n",
        "Tính tổng của mảng số nguyên đó.\n",
        "2. Nếu tổng % 3 = 0:\n",
        "- Sắp xếp mảng số nguyên theo thứ tự giảm dần\n",
        "- In ra mảng số nguyên\n",
        "3. Nếu tổng % 3 != 0:\n",
        "- Tính arr_0, arr_1, arr_2 lần lượt là mảng của số các số chia 3 dư 0, 1, 2\n",
        "- Sắp xếp arr_1, arr_2 theo thứ tự giảm dần\n",
        "4. Nếu tổng % 3 = 1:\n",
        "- Nếu len(arr_1) > 0, xóa 1 phân tử nhỏ nhất của arr_1\n",
        "- Ngược lại, xóa 2 phần tử nhỏ nhất của arr_2\n",
        "5. Nếu tổng % 3 = 2:\n",
        "- Nếu len(arr_2) > 0, xóa 1 phần tử nhỏ nhất của arr_2\n",
        "- Ngược lại, xóa 2 phần tử nhỏ nhất của arr_1\n",
        "6.Kết quả thu được là các phần tử trong mảng arr_0, arr_1, arr_2 được sắp xếp theo thứ tự giảm dần."
      ]
    },
    {
      "cell_type": "markdown",
      "metadata": {
        "id": "r0V6yp9F7hD1"
      },
      "source": [
        "**4. Complexity (Độ phức tạp):**"
      ]
    },
    {
      "cell_type": "markdown",
      "metadata": {
        "id": "--_emLS97kv5"
      },
      "source": [
        "- Ta chỉ sử dụng một vòng for nên độ phức tạp là O(n)"
      ]
    },
    {
      "cell_type": "markdown",
      "metadata": {
        "id": "-Sbk87J_7m_V"
      },
      "source": [
        "**5. Source code**"
      ]
    },
    {
      "cell_type": "code",
      "metadata": {
        "colab": {
          "base_uri": "https://localhost:8080/"
        },
        "id": "QI-LcUXA7ptb",
        "outputId": "08185acd-6984-41c3-f317-7be19cb14e73"
      },
      "source": [
        "s = list(input().strip())\n",
        "\n",
        "def convert_arr(s):\n",
        "    result_int = []\n",
        "    for i in s:\n",
        "        result_int.append(ord(i) - ord('0'))\n",
        "    return result_int\n",
        "\n",
        "s = convert_arr(s)\n",
        "sum_s = sum(s)\n",
        "def password(s):\n",
        "    if sum_s % 3 == 0:\n",
        "        s.sort(reverse=True)\n",
        "        print(*s, sep=\"\")\n",
        "    else:\n",
        "        arr_0 = []\n",
        "        arr_1 = []\n",
        "        arr_2 = []\n",
        "        for i in s:\n",
        "            if i % 3 == 0:\n",
        "                arr_0.append(i)\n",
        "            elif i % 3 == 1:\n",
        "                arr_1.append(i)\n",
        "            else:\n",
        "                arr_2.append(i)\n",
        "        arr_1.sort(reverse=True)\n",
        "        arr_2.sort(reverse=True)\n",
        "        if sum_s % 3 == 1:\n",
        "            if len(arr_1) > 0:\n",
        "                arr_1 = arr_1[:-1]\n",
        "            else:\n",
        "                arr_2 = arr_2[:-2] \n",
        "        else:\n",
        "            if len(arr_2) > 0:\n",
        "                arr_2 = arr_2[:-1]\n",
        "            else:\n",
        "                arr_1 = arr_1[:-2]\n",
        "        result = arr_0 + arr_1 + arr_2\n",
        "        result.sort(reverse=True)\n",
        "        print(*result, sep=\"\")\n",
        "        return\n",
        "password(s)"
      ],
      "execution_count": 1,
      "outputs": [
        {
          "output_type": "stream",
          "text": [
            "105\n",
            "510\n"
          ],
          "name": "stdout"
        }
      ]
    }
  ]
}