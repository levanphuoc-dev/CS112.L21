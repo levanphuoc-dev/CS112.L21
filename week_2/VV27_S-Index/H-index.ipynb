{
  "nbformat": 4,
  "nbformat_minor": 0,
  "metadata": {
    "colab": {
      "name": "Untitled4.ipynb",
      "provenance": [],
      "collapsed_sections": [],
      "authorship_tag": "ABX9TyMjHDBmF10rPDimExJ0xuRM",
      "include_colab_link": true
    },
    "kernelspec": {
      "name": "python3",
      "display_name": "Python 3"
    },
    "language_info": {
      "name": "python"
    }
  },
  "cells": [
    {
      "cell_type": "markdown",
      "metadata": {
        "id": "view-in-github",
        "colab_type": "text"
      },
      "source": [
        "<a href=\"https://colab.research.google.com/github/levanphuoc-dev/CS112.L21/blob/main/week_2/VV27_S-Index/H-index.ipynb\" target=\"_parent\"><img src=\"https://colab.research.google.com/assets/colab-badge.svg\" alt=\"Open In Colab\"/></a>"
      ]
    },
    {
      "cell_type": "markdown",
      "metadata": {
        "id": "d4zKpPl58BWW"
      },
      "source": [
        "**H_Index**"
      ]
    },
    {
      "cell_type": "markdown",
      "metadata": {
        "id": "AqGqUH-U8G2D"
      },
      "source": [
        "**1. Abstraction(Trừu tượng hóa):**"
      ]
    },
    {
      "cell_type": "markdown",
      "metadata": {
        "id": "exI9Bw1V8JDx"
      },
      "source": [
        "- Tìm số k lớn nhất sao cho mảng n có k số có giá trị lơn hơn hoặc bằng k."
      ]
    },
    {
      "cell_type": "markdown",
      "metadata": {
        "id": "nk4y_V1d8K8s"
      },
      "source": [
        "**2. Pattern recognition (Nhận dạng mẫu):**"
      ]
    },
    {
      "cell_type": "markdown",
      "metadata": {
        "id": "CnSmYeS08NXd"
      },
      "source": [
        "- Kỹ thuật áp dụng: Vét cạn (duyệt mảng).\n",
        "- Đặc điểm nhận dạng:\n",
        "- Ví dụ cho mảng input theo đề bài là: [8, 5, 3, 4, 10]\n",
        "- Với k = 1 có 5 phần tử >= 1 (Không thỏa)\n",
        "- Với k = 2 có 5 phần tử >= 2 (Không thỏa)\n",
        "- Với k = 3 có 5 phần tử >= 3 (Không thỏa)\n",
        "- Với k = 4 có 4 phần tử >= 4 (Thỏa)\n",
        "- Với k = 5 có 3 phần tử >= 4 (Không thỏa)\n",
        "- Với k = 4 thỏa điều kiện đề bài"
      ]
    },
    {
      "cell_type": "markdown",
      "metadata": {
        "id": "G0qzZFR08UbR"
      },
      "source": [
        "**3. Algorithm designed (Thiết kế thuật toán):**"
      ]
    },
    {
      "cell_type": "markdown",
      "metadata": {
        "id": "zfeZu5308XgU"
      },
      "source": [
        "- Sắp xếp mảng nhập vào theo thứ tự giảm dần: c = sorted(c,reverse=True)\n",
        "- Gán h_index = 0\n",
        "- Duyệt mảng:\n",
        "- Nếu c[i-1] >= i thì h_index = i rồi dừng vòng lặp\n",
        "- Kết quả bài toán là giá trị h_index thu được."
      ]
    },
    {
      "cell_type": "markdown",
      "metadata": {
        "id": "-SHOjpO28cGV"
      },
      "source": [
        "**4. Complexity (Độ phức tạp):**"
      ]
    },
    {
      "cell_type": "markdown",
      "metadata": {
        "id": "9jtyPB-X8ecT"
      },
      "source": [
        "- Chương trình chỉ sử dụng một vòng lặp nên độ phức tạp là O(n)"
      ]
    },
    {
      "cell_type": "markdown",
      "metadata": {
        "id": "WkHPzUoN8gir"
      },
      "source": [
        "**5. Source code:**"
      ]
    },
    {
      "cell_type": "code",
      "metadata": {
        "colab": {
          "base_uri": "https://localhost:8080/"
        },
        "id": "8A10JRbT8jVy",
        "outputId": "4b6b88c3-2ef6-48c1-b926-1bf56f8fddd4"
      },
      "source": [
        "n = int(input())\n",
        "c = list(map(int,input().split()))\n",
        "c = sorted(c,reverse=True)\n",
        "def findHindex(arr):\n",
        "    h_index = 0\n",
        "    for i in range(n,0,-1):\n",
        "        if c[i-1] >= i:\n",
        "            h_index = i \n",
        "            break\n",
        "    return h_index\n",
        "print(findHindex(c))"
      ],
      "execution_count": 1,
      "outputs": [
        {
          "output_type": "stream",
          "text": [
            "5\n",
            "8 5 3 4 10\n",
            "4\n"
          ],
          "name": "stdout"
        }
      ]
    }
  ]
}